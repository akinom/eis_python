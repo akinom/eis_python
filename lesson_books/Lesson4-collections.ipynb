{
 "cells": [
  {
   "cell_type": "markdown",
   "metadata": {},
   "source": [
    "## Lesson 4: Collections \n",
    "\n",
    "You will learn about collections of objects: lists, sets, and dictionaries:\n",
    "\n",
    " - *Lists* are used for sequences, eg sequences of time stamps or netids; Lists may contain duplicates.\n",
    " - *Sets* are similar to lists, but they may not contain duplicates.\n",
    " - *Dictionaries* map so called keys to values. This could be a 1 to 1 mapping, where for example English words are mapped to their German counter part. Dictionaries can also map keywords to lists of URL resources 'to learn more'. The latter mapping type is called a 1-t-many mapping. \n",
    "\n",
    " *Lists*, *Sets*, and *Dictionaries* can change. You can add, remove, and change  entries.\n",
    " \n",
    "*Dicts* is a fourth collection type, very much like *Lists*, except that they can not be changed. We'll discuss them later."
   ]
  },
  {
   "cell_type": "markdown",
   "metadata": {},
   "source": [
    "### Lists\n",
    "\n",
    "Lists are sequences of objects. In other programming languages call tem arrays. You can index into arrays, that is you can ask for the element at position 0, 1, 2, ... as shown in the image below. The mark list has 5 elements, the higest index is 4, one less than its number of elements.  \n",
    "\n",
    "![mark list](img/c-array-declaration.jpg)\n",
    "\n",
    "Note how the list definition below encloses a list of values in square brackets and seperates individual values with commas. \n",
    "\n",
    "Run the code segment below and explain what is going on. "
   ]
  },
  {
   "cell_type": "code",
   "execution_count": 2,
   "metadata": {},
   "outputs": [
    {
     "name": "stdout",
     "output_type": "stream",
     "text": [
      "['cross', 'dot', 'cross', 'blob', 'circle']\n",
      "['cross', 'dot', 'cross', 'blob', 'circle', 'square']\n",
      "['cross', 'cross', 'blob', 'circle', 'square']\n",
      "---\n",
      "['cross', 'cross', 'blob', 'circle', 'square']\n",
      "length 5\n",
      "0 cross\n",
      "1 cross\n",
      "-1 square\n",
      "-2 circle\n"
     ]
    }
   ],
   "source": [
    "mark = ['cross', 'dot', 'cross', 'blob', 'circle']\n",
    "print(mark)\n",
    "mark.append('square')\n",
    "print(mark)\n",
    "mark.remove('dot')\n",
    "print(mark)\n",
    "\n",
    "print(\"---\")\n",
    "print(mark)\n",
    "print('length', len(mark))\n",
    "print(0, mark[0])\n",
    "print(1, mark[1])\n",
    "print(-1, mark[-1])\n",
    "print(-2, mark[-2])\n",
    "\n",
    "# uncomment the lie below to see an error\n",
    "# mark[len(mark)]"
   ]
  },
  {
   "cell_type": "code",
   "execution_count": null,
   "metadata": {},
   "outputs": [],
   "source": []
  },
  {
   "cell_type": "code",
   "execution_count": null,
   "metadata": {},
   "outputs": [],
   "source": [
    "# review the information from help(list) \n",
    "# again ignore everything that starts with __\n",
    "help(list)"
   ]
  },
  {
   "cell_type": "code",
   "execution_count": null,
   "metadata": {},
   "outputs": [],
   "source": [
    "# define your own list and xperiment with a few list functions "
   ]
  }
 ],
 "metadata": {
  "kernelspec": {
   "display_name": "Python 3",
   "language": "python",
   "name": "python3"
  },
  "language_info": {
   "codemirror_mode": {
    "name": "ipython",
    "version": 3
   },
   "file_extension": ".py",
   "mimetype": "text/x-python",
   "name": "python",
   "nbconvert_exporter": "python",
   "pygments_lexer": "ipython3",
   "version": "3.7.0"
  }
 },
 "nbformat": 4,
 "nbformat_minor": 4
}
