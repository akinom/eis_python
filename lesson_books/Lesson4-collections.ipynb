{
 "cells": [
  {
   "cell_type": "markdown",
   "metadata": {},
   "source": [
    "## Lesson 4,5,6:  Collections \n",
    "\n",
    "*Lists*, *Sets*, and *Dictionaries* are all collections of objects.\n",
    "\n",
    " - *Lists* are used for sequences, eg sequences of time stamps or netids; Lists may contain duplicates.\n",
    " - *Sets* are similar to lists, but they may not contain duplicates.\n",
    " - *Dictionaries* map so called keys to values. This could be a 1 to 1 mapping, where for example English words are mapped to their German counter part. Dictionaries can also map topics, repersented by strings, to lists of URL resources with information on the guven topic. The latter mapping type is called a 1-to-many mapping. \n",
    "\n",
    "*Lists*, *Sets*, and *Dictionaries* can change. You can add, remove, and update  entries.\n",
    " \n",
    "*Dict* is a fourth collection type. They are very much like *Lists*, except that they can not be changed. We'll discuss them later."
   ]
  },
  {
   "cell_type": "markdown",
   "metadata": {},
   "source": [
    "## Lesson 4\n",
    "\n",
    "In this Lesson you will learn about \n",
    " - lists and \n",
    " - the related for-loop. \n",
    "\n",
    "### Lists\n",
    "\n",
    "Lists are sequences of objects. Many other programming languages call them arrays. You can index into arrays, that is you can ask for the element at position 0, 1, 2, ... as shown in the image below. The mark list has 5 elements, the higest index is 4, one less than its number of elements.  \n",
    "\n",
    "![mark list](img/c-array-declaration.jpg)\n",
    "\n",
    "Note how the list definition below encloses a list of values in square brackets and seperates individual values with commas. \n",
    "\n",
    "Run the code segment below and figure out what is going on. "
   ]
  },
  {
   "cell_type": "code",
   "execution_count": 5,
   "metadata": {
    "scrolled": false
   },
   "outputs": [
    {
     "name": "stdout",
     "output_type": "stream",
     "text": [
      "['cross', 'dot', 'cross', 'blob', 'circle']\n",
      "['cross', 'dot', 'cross', 'blob', 'circle', 'square']\n",
      "['cross', 'cross', 'blob', 'circle', 'square']\n",
      "---\n",
      "['cross', 'cross', 'blob', 'circle', 'square']\n",
      "length 5\n",
      "0 cross\n",
      "1 cross\n",
      "-1 square\n",
      "-2 circle\n"
     ]
    }
   ],
   "source": [
    "mark = ['cross', 'dot', 'cross', 'blob', 'circle']\n",
    "print(mark)\n",
    "mark.append('square')\n",
    "print(mark)\n",
    "mark.remove('dot')\n",
    "print(mark)\n",
    "\n",
    "print(\"---\")\n",
    "print(mark)\n",
    "print('length', len(mark))\n",
    "print(0, mark[0])\n",
    "print(1, mark[1])\n",
    "print(-1, mark[-1])\n",
    "print(-2, mark[-2])\n",
    "\n",
    "# uncomment the lie below to see an error\n",
    "# mark[len(mark)]"
   ]
  },
  {
   "cell_type": "markdown",
   "metadata": {},
   "source": [
    "## The For Loop\n",
    "\n",
    "The for loop is similar to the while loop. It performs a repeated action on the elements in a list/sequence.\n",
    "\n",
    "The flow chart below visualizes how a for loops steps through the elements of a sequence and applies the statements in the loop's body to each of the elements. \n",
    "\n",
    " ![for loop flow chart](img/20190129-python-for-loop.jpg)\n",
    " \n",
    "For loops step through sequence elements in their 'natural' order. In the case of lists this is from element 0, to 1,2,3, ... all the way to the last element.\n",
    "\n",
    "Execute the code below and see this in action."
   ]
  },
  {
   "cell_type": "code",
   "execution_count": 7,
   "metadata": {},
   "outputs": [
    {
     "name": "stdout",
     "output_type": "stream",
     "text": [
      "['cross', 'cross', 'blob', 'circle', 'square']\n",
      "cross\n",
      "cross\n",
      "blob\n",
      "circle\n",
      "square\n"
     ]
    }
   ],
   "source": [
    "print(mark)\n",
    "for elem in mark: \n",
    "    print(elem)"
   ]
  },
  {
   "cell_type": "markdown",
   "metadata": {},
   "source": [
    "In the loop above the variable elem assumes all values of the mark list, starting with the first list element. The loop moves  through the list one by one, until it reaches the end. For each element it executes the statement(s) in the loop's body. Note the usage of the keywords ```for``` and ```in``` and the ```:``` at the end of the line.   This is called iterating through the list's values. \n",
    "\n",
    "The while loop below performs the same actions in the same order as the for loop below. "
   ]
  },
  {
   "cell_type": "code",
   "execution_count": 10,
   "metadata": {},
   "outputs": [
    {
     "name": "stdout",
     "output_type": "stream",
     "text": [
      "['cross', 'cross', 'blob', 'circle', 'square']\n",
      "cross\n",
      "cross\n",
      "blob\n",
      "circle\n",
      "square\n"
     ]
    }
   ],
   "source": [
    "print(mark)\n",
    "i = 0 \n",
    "while i < len(mark): \n",
    "    elem = mark[i]\n",
    "    i = i + 1\n",
    "    print(elem)"
   ]
  },
  {
   "cell_type": "markdown",
   "metadata": {},
   "source": [
    "## List functions \n",
    "\n",
    "Python has many functions that you can work on lists, like sorting or reversing the order of list elements. The function documentation often talks about iterables. An iterable is a thing"
   ]
  },
  {
   "cell_type": "code",
   "execution_count": 3,
   "metadata": {},
   "outputs": [
    {
     "name": "stdout",
     "output_type": "stream",
     "text": [
      "Help on class list in module builtins:\n",
      "\n",
      "class list(object)\n",
      " |  list() -> new empty list\n",
      " |  list(iterable) -> new list initialized from iterable's items\n",
      " |  \n",
      " |  Methods defined here:\n",
      " |  \n",
      " |  __add__(self, value, /)\n",
      " |      Return self+value.\n",
      " |  \n",
      " |  __contains__(self, key, /)\n",
      " |      Return key in self.\n",
      " |  \n",
      " |  __delitem__(self, key, /)\n",
      " |      Delete self[key].\n",
      " |  \n",
      " |  __eq__(self, value, /)\n",
      " |      Return self==value.\n",
      " |  \n",
      " |  __ge__(self, value, /)\n",
      " |      Return self>=value.\n",
      " |  \n",
      " |  __getattribute__(self, name, /)\n",
      " |      Return getattr(self, name).\n",
      " |  \n",
      " |  __getitem__(...)\n",
      " |      x.__getitem__(y) <==> x[y]\n",
      " |  \n",
      " |  __gt__(self, value, /)\n",
      " |      Return self>value.\n",
      " |  \n",
      " |  __iadd__(self, value, /)\n",
      " |      Implement self+=value.\n",
      " |  \n",
      " |  __imul__(self, value, /)\n",
      " |      Implement self*=value.\n",
      " |  \n",
      " |  __init__(self, /, *args, **kwargs)\n",
      " |      Initialize self.  See help(type(self)) for accurate signature.\n",
      " |  \n",
      " |  __iter__(self, /)\n",
      " |      Implement iter(self).\n",
      " |  \n",
      " |  __le__(self, value, /)\n",
      " |      Return self<=value.\n",
      " |  \n",
      " |  __len__(self, /)\n",
      " |      Return len(self).\n",
      " |  \n",
      " |  __lt__(self, value, /)\n",
      " |      Return self<value.\n",
      " |  \n",
      " |  __mul__(self, value, /)\n",
      " |      Return self*value.\n",
      " |  \n",
      " |  __ne__(self, value, /)\n",
      " |      Return self!=value.\n",
      " |  \n",
      " |  __new__(*args, **kwargs) from builtins.type\n",
      " |      Create and return a new object.  See help(type) for accurate signature.\n",
      " |  \n",
      " |  __repr__(self, /)\n",
      " |      Return repr(self).\n",
      " |  \n",
      " |  __reversed__(...)\n",
      " |      L.__reversed__() -- return a reverse iterator over the list\n",
      " |  \n",
      " |  __rmul__(self, value, /)\n",
      " |      Return value*self.\n",
      " |  \n",
      " |  __setitem__(self, key, value, /)\n",
      " |      Set self[key] to value.\n",
      " |  \n",
      " |  __sizeof__(...)\n",
      " |      L.__sizeof__() -- size of L in memory, in bytes\n",
      " |  \n",
      " |  append(...)\n",
      " |      L.append(object) -> None -- append object to end\n",
      " |  \n",
      " |  clear(...)\n",
      " |      L.clear() -> None -- remove all items from L\n",
      " |  \n",
      " |  copy(...)\n",
      " |      L.copy() -> list -- a shallow copy of L\n",
      " |  \n",
      " |  count(...)\n",
      " |      L.count(value) -> integer -- return number of occurrences of value\n",
      " |  \n",
      " |  extend(...)\n",
      " |      L.extend(iterable) -> None -- extend list by appending elements from the iterable\n",
      " |  \n",
      " |  index(...)\n",
      " |      L.index(value, [start, [stop]]) -> integer -- return first index of value.\n",
      " |      Raises ValueError if the value is not present.\n",
      " |  \n",
      " |  insert(...)\n",
      " |      L.insert(index, object) -- insert object before index\n",
      " |  \n",
      " |  pop(...)\n",
      " |      L.pop([index]) -> item -- remove and return item at index (default last).\n",
      " |      Raises IndexError if list is empty or index is out of range.\n",
      " |  \n",
      " |  remove(...)\n",
      " |      L.remove(value) -> None -- remove first occurrence of value.\n",
      " |      Raises ValueError if the value is not present.\n",
      " |  \n",
      " |  reverse(...)\n",
      " |      L.reverse() -- reverse *IN PLACE*\n",
      " |  \n",
      " |  sort(...)\n",
      " |      L.sort(key=None, reverse=False) -> None -- stable sort *IN PLACE*\n",
      " |  \n",
      " |  ----------------------------------------------------------------------\n",
      " |  Data and other attributes defined here:\n",
      " |  \n",
      " |  __hash__ = None\n",
      "\n"
     ]
    }
   ],
   "source": [
    "# review the information from help(list) \n",
    "# again ignore everything that starts with __\n",
    "help(list)"
   ]
  },
  {
   "cell_type": "code",
   "execution_count": null,
   "metadata": {},
   "outputs": [],
   "source": [
    "# define your own list and xperiment with a few list functions "
   ]
  }
 ],
 "metadata": {
  "kernelspec": {
   "display_name": "Python 3",
   "language": "python",
   "name": "python3"
  },
  "language_info": {
   "codemirror_mode": {
    "name": "ipython",
    "version": 3
   },
   "file_extension": ".py",
   "mimetype": "text/x-python",
   "name": "python",
   "nbconvert_exporter": "python",
   "pygments_lexer": "ipython3",
   "version": "3.6.9"
  }
 },
 "nbformat": 4,
 "nbformat_minor": 4
}
