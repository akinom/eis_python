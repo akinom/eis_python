{
 "cells": [
  {
   "cell_type": "markdown",
   "metadata": {},
   "source": [
    "## Lesson 4\n",
    "\n",
    "This is a recap. We'll work with lists, dictionaries, strings, for loops to read and analyze data from a csv file. \n",
    "\n",
    "The csv file [./resources/commitlog.txt](./resources/commitlog.txt)  is an excerpt of a commit history [DSpace project on GitHub](https://github.com/DSpace/DSpace). The file lists commiter emails along with the commit hashes.\n",
    "\n",
    "In this lesson I will show how one can read the commit info and print a report that lists for each dtsint commiter all of his/her commit hashes. \n"
   ]
  },
  {
   "cell_type": "markdown",
   "metadata": {},
   "source": [
    "###  Read all lines in the file \n",
    "\n",
    "Like the if statement while loops are governed by a test expression,  that evaluates to True or False. \n",
    "\n",
    "![Flow-Diagramn-If](./img/while-loop.png)\n",
    "\n",
    "Below an example of a while statement. It asks the user for input, compares it with the string 'exit'. If it receives 'exit' the loop stops, otherwise it excutes the staements in its body and starts over. "
   ]
  },
  {
   "cell_type": "code",
   "execution_count": 1,
   "metadata": {},
   "outputs": [
    {
     "name": "stdout",
     "output_type": "stream",
     "text": [
      "email commit\n",
      "anis.moubarik@gmail.com 06daae307\n",
      "anis.moubarik@gmail.com ab265f6c6\n",
      "michele.boychuk@gmail.com 5ac981f87\n",
      "michele.boychuk@gmail.com f7a9d9262\n",
      "michele.boychuk@gmail.com ac61bd0ca\n",
      "michele.boychuk@gmail.com be3d51cd8\n",
      "mykhaylo.boychuk@4science.it 90688555b\n",
      "mykhaylo.boychuk@4science.it 353b12034\n",
      "andrea.bollini@4science.it 22a2b12aa\n",
      "mykhaylo.boychuk@4science.it 04df6f9d8\n",
      "andrea.bollini@4science.it d64609df2\n",
      "mykhaylo.boychuk@4science.it 1daa46274\n",
      "mykhaylo.boychuk@4science.it 9a0a5078d\n",
      "andrea.bollini@4science.it dbf501229\n",
      "andrea.bollini@4science.it 91db23484\n",
      "mykhaylo.boychuk@4science.it 40ee6e54f\n",
      "mykhaylo.boychuk@4science.it fad08adcb\n",
      "kevin@mire.be c498838e3\n",
      "kevin@mire.be 4512ed502\n",
      "mykhaylo.boychuk@4science.it 8ed4f6d54\n",
      "mykhaylo.boychuk@4science.it 427d96af0\n"
     ]
    }
   ],
   "source": [
    "fname = './resources/commitlog.txt'\n",
    "\n",
    "fin = open(fname, 'r')\n",
    "for line in fin.readlines(): \n",
    "    stripped = line.strip()\n",
    "    email, commit = stripped.split(',')\n",
    "    print(email, commit)   \n",
    "fin.close()"
   ]
  },
  {
   "cell_type": "code",
   "execution_count": 2,
   "metadata": {},
   "outputs": [
    {
     "name": "stdout",
     "output_type": "stream",
     "text": [
      "anis.moubarik@gmail.com 06daae307\n",
      "anis.moubarik@gmail.com ab265f6c6\n",
      "michele.boychuk@gmail.com 5ac981f87\n",
      "michele.boychuk@gmail.com f7a9d9262\n",
      "michele.boychuk@gmail.com ac61bd0ca\n",
      "michele.boychuk@gmail.com be3d51cd8\n",
      "mykhaylo.boychuk@4science.it 90688555b\n",
      "mykhaylo.boychuk@4science.it 353b12034\n",
      "andrea.bollini@4science.it 22a2b12aa\n",
      "mykhaylo.boychuk@4science.it 04df6f9d8\n",
      "andrea.bollini@4science.it d64609df2\n",
      "mykhaylo.boychuk@4science.it 1daa46274\n",
      "mykhaylo.boychuk@4science.it 9a0a5078d\n",
      "andrea.bollini@4science.it dbf501229\n",
      "andrea.bollini@4science.it 91db23484\n",
      "mykhaylo.boychuk@4science.it 40ee6e54f\n",
      "mykhaylo.boychuk@4science.it fad08adcb\n",
      "kevin@mire.be c498838e3\n",
      "kevin@mire.be 4512ed502\n",
      "mykhaylo.boychuk@4science.it 8ed4f6d54\n",
      "mykhaylo.boychuk@4science.it 427d96af0\n"
     ]
    }
   ],
   "source": [
    "fname = './resources/commitlog.txt'\n",
    "\n",
    "fin = open(fname, 'r')\n",
    "_ = fin.readline()    # throw first line away\n",
    "for line in fin.readlines(): \n",
    "    stripped = line.strip()\n",
    "    email, commit = stripped.split(',')\n",
    "    print(email, commit)\n",
    "fin.close()"
   ]
  },
  {
   "cell_type": "code",
   "execution_count": 20,
   "metadata": {},
   "outputs": [
    {
     "name": "stdout",
     "output_type": "stream",
     "text": [
      "anis.moubarik@gmail.com ['06daae307']\n",
      "anis.moubarik@gmail.com ['06daae307', 'ab265f6c6']\n",
      "michele.boychuk@gmail.com ['5ac981f87']\n",
      "michele.boychuk@gmail.com ['5ac981f87', 'f7a9d9262']\n",
      "michele.boychuk@gmail.com ['5ac981f87', 'f7a9d9262', 'ac61bd0ca']\n",
      "michele.boychuk@gmail.com ['5ac981f87', 'f7a9d9262', 'ac61bd0ca', 'be3d51cd8']\n",
      "mykhaylo.boychuk@4science.it ['90688555b']\n",
      "mykhaylo.boychuk@4science.it ['90688555b', '353b12034']\n",
      "andrea.bollini@4science.it ['22a2b12aa']\n",
      "andrea.bollini@4science.it ['22a2b12aa', 'd64609df2']\n",
      "mykhaylo.boychuk@4science.it ['90688555b', '353b12034', '1daa46274']\n",
      "andrea.bollini@4science.it ['22a2b12aa', 'd64609df2', 'dbf501229']\n",
      "andrea.bollini@4science.it ['22a2b12aa', 'd64609df2', 'dbf501229', '91db23484']\n",
      "mykhaylo.boychuk@4science.it ['90688555b', '353b12034', '1daa46274', 'fad08adcb']\n",
      "kevin@mire.be ['c498838e3']\n",
      "kevin@mire.be ['c498838e3', '4512ed502']\n",
      "mykhaylo.boychuk@4science.it ['90688555b', '353b12034', '1daa46274', 'fad08adcb', '8ed4f6d54']\n",
      "mykhaylo.boychuk@4science.it ['90688555b', '353b12034', '1daa46274', 'fad08adcb', '8ed4f6d54', '427d96af0']\n"
     ]
    }
   ],
   "source": [
    "fname = './resources/commitlog.txt'\n",
    "\n",
    "fin = open(fname, 'r')\n",
    "_ = fin.readline()    # throw first line away\n",
    "mapped = {}\n",
    "for line in fin.readlines(): \n",
    "    stripped = line.strip()\n",
    "    email, commit = stripped.split(',')\n",
    "    if email not in mapped: \n",
    "        mapped[email] = [ commit ]\n",
    "    else:\n",
    "        mapped[email].append(commit)\n",
    "    print(email, mapped[email])\n",
    "fin.close()"
   ]
  },
  {
   "cell_type": "code",
   "execution_count": 21,
   "metadata": {},
   "outputs": [
    {
     "name": "stdout",
     "output_type": "stream",
     "text": [
      "anis.moubarik@gmail.com\n",
      "\t2\t['06daae307', 'ab265f6c6']\n",
      "\n",
      "michele.boychuk@gmail.com\n",
      "\t4\t['5ac981f87', 'f7a9d9262', 'ac61bd0ca', 'be3d51cd8']\n",
      "\n",
      "mykhaylo.boychuk@4science.it\n",
      "\t6\t['90688555b', '353b12034', '1daa46274', 'fad08adcb', '8ed4f6d54', '427d96af0']\n",
      "\n",
      "andrea.bollini@4science.it\n",
      "\t4\t['22a2b12aa', 'd64609df2', 'dbf501229', '91db23484']\n",
      "\n",
      "kevin@mire.be\n",
      "\t2\t['c498838e3', '4512ed502']\n",
      "\n"
     ]
    }
   ],
   "source": [
    "# we have a dictionary mapping emails to commits \n",
    "# now printing info on each comitter identified by his/her email \n",
    "\n",
    "for (key, vals)  in mapped.items(): \n",
    "    print(\"{email}\\n\\t{n}\\t{commits}\\n\".format(email=key,n=len(vals),commits=vals)) "
   ]
  },
  {
   "cell_type": "code",
   "execution_count": 23,
   "metadata": {},
   "outputs": [
    {
     "name": "stdout",
     "output_type": "stream",
     "text": [
      "andrea.bollini@4science.it\n",
      "\t4\t['22a2b12aa', 'd64609df2', 'dbf501229', '91db23484']\n",
      "\n",
      "anis.moubarik@gmail.com\n",
      "\t2\t['06daae307', 'ab265f6c6']\n",
      "\n",
      "kevin@mire.be\n",
      "\t2\t['c498838e3', '4512ed502']\n",
      "\n",
      "michele.boychuk@gmail.com\n",
      "\t4\t['5ac981f87', 'f7a9d9262', 'ac61bd0ca', 'be3d51cd8']\n",
      "\n",
      "mykhaylo.boychuk@4science.it\n",
      "\t6\t['90688555b', '353b12034', '1daa46274', 'fad08adcb', '8ed4f6d54', '427d96af0']\n",
      "\n"
     ]
    }
   ],
   "source": [
    "# lets sort emails alphabetically \n",
    "\n",
    "for key in sorted(mapped.keys()):\n",
    "    vals = mapped[key]\n",
    "    print(\"{email}\\n\\t{n}\\t{commits}\\n\".format(email=key,n=len(vals),commits=vals)) "
   ]
  },
  {
   "cell_type": "code",
   "execution_count": 23,
   "metadata": {},
   "outputs": [
    {
     "name": "stdout",
     "output_type": "stream",
     "text": [
      "andrea.bollini@4science.it\n",
      "\t4\t['22a2b12aa', 'd64609df2', 'dbf501229', '91db23484']\n",
      "\n",
      "anis.moubarik@gmail.com\n",
      "\t2\t['06daae307', 'ab265f6c6']\n",
      "\n",
      "kevin@mire.be\n",
      "\t2\t['c498838e3', '4512ed502']\n",
      "\n",
      "michele.boychuk@gmail.com\n",
      "\t4\t['5ac981f87', 'f7a9d9262', 'ac61bd0ca', 'be3d51cd8']\n",
      "\n",
      "mykhaylo.boychuk@4science.it\n",
      "\t6\t['90688555b', '353b12034', '1daa46274', 'fad08adcb', '8ed4f6d54', '427d96af0']\n",
      "\n"
     ]
    }
   ],
   "source": [
    "# print sorted by number of commits \n",
    "\n",
    "commits = set()\n",
    "for (key, vals)  in mapped.items(): \n",
    "    ncommit = len(vals)\n",
    "    mapped[key]['len'] = len(vals)\n",
    "    commits.add(ncommit)\n",
    "    \n",
    "    if not ncommit in commits then \n",
    "    \n",
    "    commits[ncommit] = print(\"{email}\\n\\t{n}\\t{commits}\\n\".format(email=key,n=len(vals),commits=vals)) \n",
    "    vals = mapped[key]\n",
    "    print(\"{email}\\n\\t{n}\\t{commits}\\n\".format(email=key,n=len(vals),commits=vals)) "
   ]
  },
  {
   "cell_type": "code",
   "execution_count": null,
   "metadata": {},
   "outputs": [],
   "source": []
  },
  {
   "cell_type": "code",
   "execution_count": null,
   "metadata": {
    "scrolled": true
   },
   "outputs": [],
   "source": [
    "# a similar loop\n",
    "# except: the value entered is available to work with  \n",
    "while True:\n",
    "    entry = input('enter something: ')\n",
    "    if (entry != 'exit'): \n",
    "        print('do something with ', entry)\n",
    "    else: \n",
    "        # stop - don't work on the 'exit' string \n",
    "        break\n",
    "print('done with while')"
   ]
  },
  {
   "cell_type": "markdown",
   "metadata": {},
   "source": [
    "```break``` in the code above is another Python keyword with a special meaning. It says that instead of executing the next statement control flow should jump to the first statement after the while loop. "
   ]
  },
  {
   "cell_type": "markdown",
   "metadata": {},
   "source": [
    "### Boolean Expressions Again\n",
    "\n",
    "Python automatically converts values that are used in the test expression of an if statement or while loop to a  boolean value.  \n",
    "\n",
    "This can have surprising results. When you execute the code below you can see that the number zero is converted to  False. Python converts all other numbers to False.  It converts the string '0' to False, as it does for all strings that are not empty. The empty string '' converts to True. \n",
    "\n",
    "Here are the rules: \n",
    "\n",
    " - the numbers 0 and 0.0 convert to False \n",
    " - all other numbers convert to True\n",
    " - the empty string converts to False\n",
    " - all other strings convert to True \n",
    " \n",
    "Play with the two code cells below to get a feeling for this. "
   ]
  },
  {
   "cell_type": "code",
   "execution_count": null,
   "metadata": {},
   "outputs": [],
   "source": [
    "v = int(input('enter a number: '))\n",
    "if v: \n",
    "    print('testing', v, 'came out as True')\n",
    "else: \n",
    "    print('testing', v, 'came out as False')"
   ]
  },
  {
   "cell_type": "code",
   "execution_count": null,
   "metadata": {},
   "outputs": [],
   "source": [
    "v = input('enter a string: ')\n",
    "if v: \n",
    "    print('testing', v, 'came out as True')\n",
    "else: \n",
    "    print('testing', v, 'came out as False')"
   ]
  },
  {
   "cell_type": "markdown",
   "metadata": {},
   "source": [
    "## Modules\n",
    "\n",
    "Python modules are basically a collection of related variables, functions, ... that are bundled together. If you want to use a module's functionality you have to import it. Some modules, like the os module used below, come with the standard Python distribution. Others must be installed with the package manager. Before you started this tutorial you installed for example the jupyter module. \n",
    "\n",
    "You can get help on pretty much anything in Python with the help function. See what happen when you run the code below. Ignore everything with __ . The os module has a lot of functions useful for systems scripting.  "
   ]
  },
  {
   "cell_type": "code",
   "execution_count": null,
   "metadata": {},
   "outputs": [],
   "source": [
    "import os\n",
    "help(os)"
   ]
  },
  {
   "cell_type": "markdown",
   "metadata": {},
   "source": [
    "## Assignment 1                                    \n",
    "\n",
    "Try to understand what the code below does. Then execute and verify. Why does it not work when you execute it a second time ? \n",
    "\n",
    "You can re-initialize the notebook state by using the 'Restart' option in the Kernel Menu. Do so, and try to fix the code so it can work multiple times. "
   ]
  },
  {
   "cell_type": "code",
   "execution_count": null,
   "metadata": {},
   "outputs": [],
   "source": [
    "import os \n",
    "cur_dir = os.getcwd();      \n",
    "\n",
    "top = os.sep      \n",
    "while (top != os.getcwd()): \n",
    "    rights = ''\n",
    "    if os.access('.', os.R_OK): \n",
    "        rights = rights + 'r'  \n",
    "    if os.access('.', os.W_OK): \n",
    "        rights = rights + 'w'\n",
    "    if os.access('.', os.X_OK): \n",
    "        rights = rights + 'x'\n",
    "    print(rights, os.getcwd())\n",
    "    os.chdir('..')     "
   ]
  },
  {
   "cell_type": "markdown",
   "metadata": {},
   "source": [
    "## Reading from a file \n",
    "\n",
    "The code snippet below shows how to open a file for reading, how to read the first line, and how to close the file when done. \n",
    "\n",
    "When you run the cell below note the following:                               \n",
    " \n",
    " - fin and fin2 have the same type, a class called _io.TextIOWrapper \n",
    " - just like we can have two string variables with different values, fin and fin2 refer to two different _io.TextIOWrapper objects \n",
    " - when you want to read a line from a file, you need to write this as follows: variable.readline(); readline returns the next line in the file as a string with the newline character at the end\n",
    " - files should be closed when work is done \n",
    " - readline fails on closed files\n",
    " \n",
    "Have a look at the two files: [./resources/ips.txt](./resources/ips.txt)  and [./resources/netids.txt](./resources/netids.txt) and then run the ode cell below."
   ]
  },
  {
   "cell_type": "code",
   "execution_count": null,
   "metadata": {},
   "outputs": [],
   "source": [
    "fin = open('./resources/ips.txt', 'r')  \n",
    "print('fin', type(fin))\n",
    "print(fin)\n",
    "\n",
    "fin2 = open('./resources/netids.txt', 'r')  \n",
    "print('fin2', type(fin2))\n",
    "print(fin2)\n",
    "print('----')\n",
    "\n",
    "line = fin.readline()\n",
    "print('fin', line)\n",
    "\n",
    "line = fin2.readline()\n",
    "print('fin2', line)\n",
    "print('----')\n",
    "\n",
    "\n",
    "fin.close()    \n",
    "fin2.close()    \n",
    "\n",
    "#fin.readline()   # uncomment this line and see it fail"
   ]
  },
  {
   "cell_type": "markdown",
   "metadata": {},
   "source": [
    "## Assignment 2 \n",
    "\n",
    "The code below reads ip addresses from the first 3 lines of the file [./resources/ips.txt](./resources/ips.txt) and gets the corresponging domain name info with the  ```socket.gethostbyaddr``` function.\n",
    "\n",
    "Run the code to see how this works and then rewrite with a  while statetement to work on all lines."
   ]
  },
  {
   "cell_type": "code",
   "execution_count": null,
   "metadata": {},
   "outputs": [],
   "source": [
    "import socket \n",
    "\n",
    "fin = open('./resources/ips.txt', 'r')  \n",
    "\n",
    "ip = fin.readline().strip()    # strip newline character at end of line\n",
    "name = socket.gethostbyaddr(ip)\n",
    "print(name)\n",
    "\n",
    "ip = fin.readline().strip()\n",
    "name = socket.gethostbyaddr(ip)\n",
    "print(name)\n",
    "\n",
    "ip = fin.readline().strip()\n",
    "name = socket.gethostbyaddr(ip)\n",
    "print(name)\n",
    "\n",
    "\n",
    "fin.close()  "
   ]
  },
  {
   "cell_type": "code",
   "execution_count": null,
   "metadata": {},
   "outputs": [],
   "source": [
    "\n"
   ]
  },
  {
   "cell_type": "markdown",
   "metadata": {},
   "source": [
    "## To Be Continued"
   ]
  }
 ],
 "metadata": {
  "kernelspec": {
   "display_name": "Python 3",
   "language": "python",
   "name": "python3"
  },
  "language_info": {
   "codemirror_mode": {
    "name": "ipython",
    "version": 3
   },
   "file_extension": ".py",
   "mimetype": "text/x-python",
   "name": "python",
   "nbconvert_exporter": "python",
   "pygments_lexer": "ipython3",
   "version": "3.6.9"
  }
 },
 "nbformat": 4,
 "nbformat_minor": 4
}
