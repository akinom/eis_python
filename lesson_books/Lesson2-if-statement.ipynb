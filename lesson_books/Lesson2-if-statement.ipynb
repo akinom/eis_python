{
 "cells": [
  {
   "cell_type": "markdown",
   "metadata": {},
   "source": [
    "## Lesson 2\n",
    "\n",
    "Your first cintrol flow lesson: the if statement"
   ]
  },
  {
   "cell_type": "markdown",
   "metadata": {},
   "source": [
    "###  Control Flow : If statement \n",
    "\n",
    "So far we have only seen lists of statements, which were executed one after the other.  Control flow constructs change that default order of execution. \n",
    "\n",
    "If statements check whether something is True or False and depending on that either execute one set of statements or the other, as shown in the diagram below. In programming we call that branching. \n",
    "\n",
    "![Flow-Diagramn-If](./img/if-diagram.jpg)\n",
    "\n",
    "Below an example of a simple if statement in Python. Note how  ```if``` and ```else``` are shown in green. They are so called keywords or reserved words and they can not be used as variable names. \n",
    "\n",
    "The code that is excuted in the two branches must be indented as shown below. Python also wants you to use a ```:``` after the decision expression and after the else keyword.   The test expression must evaluate to a boolean value, aka True or False. "
   ]
  },
  {
   "cell_type": "code",
   "execution_count": null,
   "metadata": {},
   "outputs": [],
   "source": [
    "# try this with a couple different inputs \n",
    "x = input('what is the weather like ? ') \n",
    "if x == 'rainy': \n",
    "    print('bring an umbrealla')\n",
    "    print('Sorry typo; bring an umbrella')\n",
    "else: \n",
    "    print('does this mean the sun is out ?')"
   ]
  },
  {
   "cell_type": "markdown",
   "metadata": {},
   "source": [
    "Sometimes you'll want to have a sequence of checks, along the lines of \n",
    "\n",
    " - is it this ?  then do this \n",
    " - if not:  is it that ? then do that \n",
    " - if that's not it either, do the other thing \n",
    " \n",
    "In the code below read ```elif``` as else if."
   ]
  },
  {
   "cell_type": "code",
   "execution_count": null,
   "metadata": {},
   "outputs": [],
   "source": [
    "# try this with a couple different inputs \n",
    "x = input('what is the weather like ? ') \n",
    "if x == 'rainy': \n",
    "    print('bring an umbrealla')\n",
    "    print('Sorry typo; bring an umbrella')\n",
    "elif x == 'cloudy':\n",
    "    print('well, at least it is not raining')\n",
    "else: \n",
    "    print('do you like', x, 'weather?' )"
   ]
  },
  {
   "cell_type": "markdown",
   "metadata": {},
   "source": [
    "All if statements mut define what to do if the decision expression is True. In developer speak, if statements must define a body for the then branch. If statements may though omit the else branch.  "
   ]
  },
  {
   "cell_type": "code",
   "execution_count": null,
   "metadata": {},
   "outputs": [],
   "source": [
    "# try this with a couple different inputs \n",
    "x = input('what is the weather like ? ') \n",
    "if x == 'rainy': \n",
    "    print('bring an umbrella')"
   ]
  },
  {
   "cell_type": "markdown",
   "metadata": {},
   "source": [
    "### Assignment 1\n",
    "\n",
    "The code below should do the following\n",
    " -  age up to and not including 18 - do nothing \n",
    " -  age 18  up to 64: ask about registration \n",
    " -  age 65 or more : congratulate on retirement \n",
    " -  age above 110 : don't believe that \n",
    " \n",
    "Test it and fix the logic "
   ]
  },
  {
   "cell_type": "code",
   "execution_count": null,
   "metadata": {},
   "outputs": [],
   "source": [
    "age = int(input(\"enter an age: \"))\n",
    "if (age > 18): \n",
    "    print('are you registered to vote ?')\n",
    "if (age >  65): \n",
    "    print('enjoy your retirement')\n",
    "elif (age >= 110): \n",
    "    print(\"Ehh ??  I don't believe you\")"
   ]
  },
  {
   "cell_type": "markdown",
   "metadata": {},
   "source": [
    "### Assignment 2 \n",
    "\n",
    "According to the U.S. Centers for Disease Control and Prevention, the average age-adjusted height for American men 20 years and older is is 69.1 inches,  or 5 feet 9 inches tall, and the average height of an American female over 20 years of age is 63.5 inches or 5' 3.5\" tall.\n",
    "\n",
    "Develop code that asks for age and gender and \n",
    "\n",
    " - prints 'sorry can't make a prediction' if the age is less than 20 \n",
    " -  depending on the gender, print  \n",
    "   - the average height for females is 5 feet 3.5 inches\n",
    "   - the average height for males is 5 feet 9 inches  "
   ]
  },
  {
   "cell_type": "code",
   "execution_count": null,
   "metadata": {},
   "outputs": [],
   "source": [
    "# your code goes here "
   ]
  },
  {
   "cell_type": "markdown",
   "metadata": {},
   "source": [
    "### Next\n",
    "\n",
    "On to the [while statement](Lesson3-while-statement.ipynb)"
   ]
  }
 ],
 "metadata": {
  "kernelspec": {
   "display_name": "Python 3",
   "language": "python",
   "name": "python3"
  },
  "language_info": {
   "codemirror_mode": {
    "name": "ipython",
    "version": 3
   },
   "file_extension": ".py",
   "mimetype": "text/x-python",
   "name": "python",
   "nbconvert_exporter": "python",
   "pygments_lexer": "ipython3",
   "version": "3.7.0"
  }
 },
 "nbformat": 4,
 "nbformat_minor": 4
}
