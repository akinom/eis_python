{
 "cells": [
  {
   "cell_type": "markdown",
   "metadata": {},
   "source": [
    "# Programming - What For\n",
    "\n",
    "Programming is about reading data, manipulating/analyzing it, and saving it. \n",
    "\n",
    "\n",
    " - read a spreadsheet, filter according to some criterium, print filtered values\n",
    " - read lines in a log file as the file is updated, analyze, and generate an alert if necessary\n",
    " - read data in a web form, update a data base entry\n",
    " \n",
    "Its all about DATA and DATA MANIPULATION    "
   ]
  },
  {
   "cell_type": "markdown",
   "metadata": {},
   "source": [
    "# Python\n",
    "\n",
    "Python is one of many programming languages. It is widely used, popular for systemn administration, web development, and in particular for scientific data analysis. There are many public packages for all sorts of tasks. "
   ]
  },
  {
   "cell_type": "markdown",
   "metadata": {},
   "source": [
    "### Indentation matters"
   ]
  },
  {
   "cell_type": "code",
   "execution_count": 1,
   "metadata": {},
   "outputs": [],
   "source": [
    "# this is a comment \n",
    "# it asks you to run this code snippet \n",
    "# you should see an error when you do\n",
    "x = 1\n",
    "y = 2"
   ]
  },
  {
   "cell_type": "markdown",
   "metadata": {},
   "source": [
    "### Assignment Statement -- Storing Data in Variables\n",
    "\n",
    "Variables are named placeholders for data. You can think of them as refering to the data values they contain. You can visualize them as containers for data values. When you assign a value to a variable you force it to refer to the given value.\n",
    "\n",
    "An assignment has a standard form, a vriable on the left, the assignment operator: ```=``` in the middle, and a value on the right."
   ]
  },
  {
   "cell_type": "code",
   "execution_count": null,
   "metadata": {},
   "outputs": [],
   "source": [
    "x = 1                         # x is the variable    1 is the data value   \n",
    "pi = 3.14                     # pi is teh variable   3.14 is the data value\n",
    "this_is_good = True           # which is which here ? \n",
    "a_text = 'text me!'"
   ]
  },
  {
   "cell_type": "markdown",
   "metadata": {},
   "source": [
    "Seemingly nothing happens, when you run the above code snippet.\n",
    "\n",
    "Use the print function to find out which data values the variables above contain after the assignment statements. ```print``` is a function included in Python. Functions are built from statements that together perform a repeatable action. The ```print``` function prints one line, made up of the values passed, each separated from its neighbour by a blank. Note that round brackets, (), enclose the values that are sent to the ```print``` function, and note that you need to separate values by commas. "
   ]
  },
  {
   "cell_type": "code",
   "execution_count": null,
   "metadata": {
    "scrolled": true
   },
   "outputs": [],
   "source": [
    "print(x)\n",
    "print('this_is_good ==', this_is_good)\n",
    "# add a statement to view the value of the pi\n",
    "# add a statement that prints:    please text me!"
   ]
  },
  {
   "cell_type": "markdown",
   "metadata": {},
   "source": [
    "When you assign a value to a variable that already has a value, you force that variable to refer to the new value forgetting about the old one. What do you think happens in the code segment below ? Add print statements and find out whether you are right. What happens if you add a print statement before the first assignment ?"
   ]
  },
  {
   "cell_type": "code",
   "execution_count": 79,
   "metadata": {},
   "outputs": [],
   "source": [
    "val = 'some value' \n",
    "val = 10 \n",
    "val_= 3.145"
   ]
  },
  {
   "cell_type": "markdown",
   "metadata": {
    "collapsed": true
   },
   "source": [
    "### Data Types\n",
    "\n",
    "All data in Python has a type. Python knows basic data types, such as int, float, boolean, strings, ... along with more complex types, which we will discuss later. Python provides you with the built in type function so you can query data values for its type. When you apply the type function to a variable it will return the type of the data that is stored in the variable.  "
   ]
  },
  {
   "cell_type": "code",
   "execution_count": null,
   "metadata": {},
   "outputs": [],
   "source": [
    "print(1, '\\t', type(1))        # '\\t'  prints a tab separator, thus the output becomes more readable\n",
    "print(x, '\\t', type(x))\n",
    "print(False, '\\t', type(False))\n",
    "# add statements for the other variables defined above "
   ]
  },
  {
   "cell_type": "markdown",
   "metadata": {},
   "source": [
    "### Sidenote on strings\n",
    "\n",
    "In the code snippet below you can see that we can define strings values by enclosing a sequence of characters in single or in double quotes. This can be useful when you want to define values that contain quotes. In either case the type of the value is string. If you must include both a single and double quote you can use the escape character '''\\'''"
   ]
  },
  {
   "cell_type": "code",
   "execution_count": 80,
   "metadata": {},
   "outputs": [
    {
     "name": "stdout",
     "output_type": "stream",
     "text": [
      "it's a wonderful day \t <class 'str'>\n",
      "it is \"quotable\" \t <class 'str'>\n",
      "it's \"quotable\"\n",
      "it's \"quotable\"\n"
     ]
    }
   ],
   "source": [
    "print(\"it's a wonderful day\", '\\t', type(\"it's a wonderful day\"))\n",
    "print('it is \"quotable\"', '\\t', type('it is \"quotable\"'))\n",
    "\n",
    "print('it\\'s \"quotable\"')\n",
    "print(\"it's \\\"quotable\\\"\") "
   ]
  },
  {
   "cell_type": "markdown",
   "metadata": {},
   "source": [
    "### Expressions, Operators, and how Type matters \n",
    "\n",
    "Hopefully you remember algebra expressions from math class. Things like \n",
    " - y + 10 \n",
    " - 2 * (x / 9) \n",
    " \n",
    "Assignment statements may have expressions on the right side of the assignment operator ```=``` \n",
    "\n",
    "Expressions are made up of values and operators, such as  *, /, +, -, not, and, or, <, >, ...   As the name suggests: operators operate on data. The type of data matters through:  ```a + b ``` means add when applied to two numbers, and append when applied to two strings. \n",
    "\n",
    "The [w3school](https://www.w3schools.com/python/python_operators.asp) has a complete list of python operators, more than you'll ever need. Right now we are only interested in arithmetic, comparison, and logical operators. "
   ]
  },
  {
   "cell_type": "code",
   "execution_count": 66,
   "metadata": {},
   "outputs": [],
   "source": [
    "# what do you think happens?  \n",
    "# confirm by adding print statements \n",
    "# what is the type of x, , and z \n",
    "x = 12 * 10                            # *, +, /, not, and   are operators \n",
    "y = x + 1 / 3                          # brackets take care of the order of operations  \n",
    "z = (x + 1) / 3     \n",
    "mod = x % 7\n",
    "b = x > 200\n",
    "c = 'combine' + ' ' + 'strings'"
   ]
  },
  {
   "cell_type": "markdown",
   "metadata": {},
   "source": [
    "Operators do not always make sense. For example:  you can use the +, -, *, / operators on numbers,  the + operator is the only one that can work with two strings. Have a look at the following code snippet, run it to see which ones work."
   ]
  },
  {
   "cell_type": "code",
   "execution_count": 64,
   "metadata": {},
   "outputs": [],
   "source": [
    "x = 3 \n",
    "y = 10 + x\n",
    "z1 = x / 3 +  4 \n",
    "z2 = y / (x - 4)\n",
    "doit = x <= y\n",
    "hashes =  x * '#'\n",
    "hashes += '.' * y + 2 * x * '+'"
   ]
  },
  {
   "cell_type": "markdown",
   "metadata": {},
   "source": [
    "### Integers, floats, and arithmetic"
   ]
  },
  {
   "cell_type": "code",
   "execution_count": 81,
   "metadata": {},
   "outputs": [
    {
     "name": "stdout",
     "output_type": "stream",
     "text": [
      "enter a temperat10\n",
      "10\n"
     ]
    }
   ],
   "source": [
    "x = input('enter a temperat')\n",
    "print(x)"
   ]
  },
  {
   "cell_type": "code",
   "execution_count": null,
   "metadata": {},
   "outputs": [],
   "source": [
    "y = 1.23\n",
    "print(y)"
   ]
  },
  {
   "cell_type": "markdown",
   "metadata": {},
   "source": [
    "#### Try this\n",
    "\n",
    "- Execute the two cells above\n",
    "\n",
    "```\n",
    "z = x + y\n",
    "print(z)\n",
    "print(type(z))\n",
    "```\n",
    "\n",
    "- _What is the type of the z?_"
   ]
  },
  {
   "cell_type": "markdown",
   "metadata": {},
   "source": [
    "#### Try this:\n",
    "\n",
    "```\n",
    "z = 'a string'\n",
    "type(z)\n",
    "```\n",
    "\n",
    "- _z was a float before.  Does this produce an error?_"
   ]
  },
  {
   "cell_type": "markdown",
   "metadata": {},
   "source": [
    "### Operators\n",
    "\n",
    "Operation | Symbol\n",
    "----------|-------\n",
    "Addition | +\n",
    "Subtraction | -\n",
    "Multiplication | *\n",
    "Division | /\n",
    "Power | **\n",
    "Grouping | ()\n",
    "\n",
    "### Operator precedence\n",
    "The operators are evaluated in the following order:\n",
    "\n",
    "- Power first\n",
    "- Then multiplication and division\n",
    "- Then addition and subraction\n",
    "\n",
    "Within each group, the order is left to right.\n",
    "\n",
    "You can override the order by grouping expressions with parentheses."
   ]
  },
  {
   "cell_type": "markdown",
   "metadata": {},
   "source": [
    "#### Example: Calculate the fahrenheit equivalent of 15 degrees celsius\n",
    "\n",
    "- The formula is:\n",
    "\n",
    "  - F = Nine-fifths C + 32"
   ]
  },
  {
   "cell_type": "code",
   "execution_count": null,
   "metadata": {},
   "outputs": [],
   "source": [
    "f = 9 / 5 * 15 + 32\n",
    "print(f)"
   ]
  },
  {
   "cell_type": "markdown",
   "metadata": {},
   "source": [
    "#### Exercise: Calculate the celsius equivalent of 212 degrees Fahrenheit\n",
    "\n",
    "- The formula is:\n",
    "\n",
    "  - C = Five ninths of the quantity: F minus 32"
   ]
  },
  {
   "cell_type": "markdown",
   "metadata": {},
   "source": [
    "### Importing a module"
   ]
  },
  {
   "cell_type": "code",
   "execution_count": null,
   "metadata": {},
   "outputs": [],
   "source": [
    "import math\n",
    "print(math.pi)"
   ]
  },
  {
   "cell_type": "code",
   "execution_count": null,
   "metadata": {},
   "outputs": [],
   "source": [
    "# Calculate the area of a circle with radius 3\n",
    "\n",
    "r = 3.0\n",
    "a = math.pi * r ** 2\n",
    "print(a)"
   ]
  },
  {
   "cell_type": "code",
   "execution_count": null,
   "metadata": {},
   "outputs": [],
   "source": [
    "help(math)"
   ]
  },
  {
   "cell_type": "markdown",
   "metadata": {},
   "source": [
    "### Many more mathematical functions are available in these modules:\n",
    "\n",
    "- statistics\n",
    "- numpy\n",
    "- scipy"
   ]
  },
  {
   "cell_type": "markdown",
   "metadata": {},
   "source": [
    "#### Example: Image Blob Detection"
   ]
  },
  {
   "cell_type": "markdown",
   "metadata": {},
   "source": [
    "### _Next: notebook Part-1.3_"
   ]
  }
 ],
 "metadata": {
  "kernelspec": {
   "display_name": "Python 3",
   "language": "python",
   "name": "python3"
  },
  "language_info": {
   "codemirror_mode": {
    "name": "ipython",
    "version": 3
   },
   "file_extension": ".py",
   "mimetype": "text/x-python",
   "name": "python",
   "nbconvert_exporter": "python",
   "pygments_lexer": "ipython3",
   "version": "3.6.9"
  },
  "pycharm": {
   "stem_cell": {
    "cell_type": "raw",
    "metadata": {
     "collapsed": false
    },
    "source": []
   }
  }
 },
 "nbformat": 4,
 "nbformat_minor": 2
}
