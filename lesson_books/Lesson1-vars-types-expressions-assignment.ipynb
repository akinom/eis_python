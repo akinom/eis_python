{
 "cells": [
  {
   "cell_type": "markdown",
   "metadata": {},
   "source": [
    "# Programming Does ...\n",
    "\n",
    "Programming is about reading data, manipulating/analyzing it, and saving it. \n",
    "\n",
    "\n",
    " - read a spreadsheet, filter according to some criterium, print filtered values\n",
    " - read lines in a log file as the file is updated, analyze, and generate an alert if necessary\n",
    " - read data in a web form, update a data base entry\n",
    " \n",
    "Its all about DATA and DATA MANIPULATION    "
   ]
  },
  {
   "cell_type": "markdown",
   "metadata": {},
   "source": [
    "# The Python Programming Language\n",
    "\n",
    "Python is one of many programming languages. It is widely used, popular for systemn administration, web development, and in particular for scientific data analysis. There are many public packages for all sorts of tasks. \n",
    "\n",
    "Python is an interpreted (or \"scripting\") language. This means that you can wirite code and exceute it without an intermediate compile step. In that sense it is similar to writing bash scripts. Python does though support more complex data oparations. \n",
    "\n",
    "Guido van Rossum (https://www.python.org/~guido/) invented Python incorporating features from other programming languages. Below an image of its genealogy: \n",
    "\n",
    "![ProgrammingLanguage Genealogy](https://www.researchgate.net/profile/Saeed_Islam2/publication/260447599/figure/fig36/AS:340745971093519@1458251578962/Genealogy-of-Programming-Languages.png)\n",
    "\n"
   ]
  },
  {
   "cell_type": "markdown",
   "metadata": {},
   "source": [
    "## Lesson 1 \n",
    "\n",
    "You will learn: \n",
    " \n",
    " - how to store and refer to data with variables, \n",
    " - about data types, \n",
    " - how to manipulate data values with expressions \n",
    " - print data values, and  \n",
    " - how to prompt a user for data entry \n",
    "\n",
    "\n",
    "### Indentation matters"
   ]
  },
  {
   "cell_type": "code",
   "execution_count": 2,
   "metadata": {},
   "outputs": [],
   "source": [
    "# this is a comment \n",
    "# it asks you to run this code snippet \n",
    "# you should see an error when you do\n",
    "x = 1\n",
    "   y = 2"
   ]
  },
  {
   "cell_type": "markdown",
   "metadata": {},
   "source": [
    "### Assignment Statement -- Storing Data in Variables\n",
    "\n",
    "Variables are named placeholders for data. You can think of them as refering to the data values they contain. You can visualize them as containers for data values. When you assign a value to a variable you force it to refer to the given value.\n",
    "\n",
    "An assignment has a standard form, a vriable on the left, the assignment operator: ```=``` in the middle, and a value on the right."
   ]
  },
  {
   "cell_type": "code",
   "execution_count": 2,
   "metadata": {},
   "outputs": [],
   "source": [
    "x = 1                  # x is the variable    1 is the data value   \n",
    "pi = 3.14              # pi is the variable   3.14 is the data value\n",
    "this_is_good = True    # which is which here ? \n",
    "a_text = 'text me!'"
   ]
  },
  {
   "cell_type": "markdown",
   "metadata": {},
   "source": [
    "Seemingly nothing happens, when you run the above code cell.\n",
    "\n",
    "Use the print function to find out which data values the variables above contain after the assignment statements. ```print``` is a function included in Python. Functions are built from statements that together perform a repeatable action. The ```print``` function prints one line, made up of the values passed, each separated from its neighbour by a blank. Note that round brackets, ( ), enclose the values that are sent to the ```print``` function, and note that you need to separate values by commas. "
   ]
  },
  {
   "cell_type": "code",
   "execution_count": 3,
   "metadata": {
    "scrolled": true
   },
   "outputs": [
    {
     "name": "stdout",
     "output_type": "stream",
     "text": [
      "1\n",
      "this_is_good == True\n"
     ]
    }
   ],
   "source": [
    "print(x)\n",
    "print('this_is_good ==', this_is_good)\n",
    "# add a statement to view the value of pi and the variables\n",
    "# add a statement that prints the string    please text me!"
   ]
  },
  {
   "cell_type": "markdown",
   "metadata": {},
   "source": [
    "When you assign a value to a variable that already has a value, you force that variable to refer to the new value forgetting about the old one. \n",
    "\n",
    "What do you think happens in the code segment below ? Add print statements and find out whether you are right. "
   ]
  },
  {
   "cell_type": "code",
   "execution_count": null,
   "metadata": {},
   "outputs": [],
   "source": [
    "print(val)\n",
    "val = 'some value' \n",
    "val = 10 \n",
    "val = 3.145"
   ]
  },
  {
   "cell_type": "markdown",
   "metadata": {},
   "source": [
    "Why does the code below fail ?\n",
    "How can you fix it ?"
   ]
  },
  {
   "cell_type": "code",
   "execution_count": null,
   "metadata": {
    "scrolled": true
   },
   "outputs": [],
   "source": [
    "print(my_value)"
   ]
  },
  {
   "cell_type": "markdown",
   "metadata": {
    "collapsed": true
   },
   "source": [
    "### Data Types\n",
    "\n",
    "All data in Python has a type. Python knows basic data types, such as int, float, boolean, strings, ... along with more complex types, which we will discuss later. Python provides you with the built in ```type``` function so you can query data values for their type. When you apply the type function to a variable it will return the type of the data that is stored in the variable.  "
   ]
  },
  {
   "cell_type": "code",
   "execution_count": null,
   "metadata": {},
   "outputs": [],
   "source": [
    "print(1, '\\t', type(1))     # '\\t' means tab separator\n",
    "print(x, '\\t', type(x))     #  tab makes the output more readable\n",
    "print(False, '\\t', type(False))\n",
    "# print the type of some of the other variables and values used above "
   ]
  },
  {
   "cell_type": "markdown",
   "metadata": {},
   "source": [
    "### Sidenote on strings\n",
    "\n",
    "In the code snippet below you can see that we can define strings values by enclosing a sequence of characters in single or in double quotes. This can be useful when you want to define values that contain quotes. In either case the type of the value is string. If you must include both a single and double quote you can use the escape character '''\\'''"
   ]
  },
  {
   "cell_type": "code",
   "execution_count": null,
   "metadata": {},
   "outputs": [],
   "source": [
    "print(\"it's a wonderful day\", '\\t', type(\"it's a wonderful day\"))\n",
    "print('it is \"quotable\"', '\\t', type('it is \"quotable\"'))\n",
    "\n",
    "print('it\\'s \"quotable\"')\n",
    "print(\"it's \\\"quotable\\\"\") "
   ]
  },
  {
   "cell_type": "markdown",
   "metadata": {},
   "source": [
    "### Expressions, Operators, and how Type matters \n",
    "\n",
    "Expresions in Python combine and manipulate values. They look similar to the expressions and formulars you know from math class. \n",
    " - y + 10 \n",
    " - 2 * (x / 9) \n",
    " \n",
    "Assignment statements may have expressions on the right side of the assignment operator ```=``` \n",
    "\n",
    "Expressions are made up of values and operators, such as  *, /, +, -, not, and, or, <, >, ...   As the name suggests: operators operate on data. The type of data matters through:  ```a + b ``` means add when applied to two numbers, and append when applied to two strings. \n",
    "\n",
    "Right now we are only interested in arithmetic, comparison, and logical operators. \n",
    "\n",
    "**arithmetic**\n",
    "\n",
    "| symbol | operation |  example-expression | expression's result | \n",
    "|:---:|:--------|:-----------|:---------------|\n",
    "| + | plus   |  5 + 12 |  17 |\n",
    "| + | plus   |  'hello' + 'there'|  'hellothere' |\n",
    "| - | minus  |  1 - 10  | 9 | \n",
    "| * | multiply | 3 * 5 |  15 | \n",
    "| * | multiply | 3 * '5' | '555' | \n",
    "| / | divide |    12 / 4 | 3 |\n",
    "| ** | power | 2 ** 4 | 16 |\n",
    "| \\%  | modulus |   17 \\% 5 | 2 | \n",
    "\n",
    "**comparison** \n",
    "\n",
    "| symbol | operation |  example-expression | expression's result | \n",
    "|:---:|:--------|:-----------|:---------------|\n",
    "| ==   |  test equal  |   10 == 10 | True \n",
    "| ==   |  test equal  |   10 == '10' | False \n",
    "| !=   | test not equal | 'yes' != 'YES' | True \n",
    "| <    |  test smaller |    12 < 10 | False \n",
    "| <    | test smaller | 'although longer' < 'smaller' | True\n",
    "| <= |    test smaller equal | 12 <= 12 | True \n",
    "| >    |  test smaller  |  9 > 9 | False \n",
    "| >=   |  test greater equal | 9>= -1 | True \n",
    "\n",
    "\n",
    "**logical** \n",
    "\n",
    "| symbol/operation |  example-expression | expression's result | \n",
    "|:---:|:--------|:-----------|\n",
    "| and   | (10 == 10) and ( 10 > 12 | False \n",
    "| or   | (10 == 10) or ( 10 > 12 | False \n",
    "| not  | not (10 == 12 ) | True \n",
    "\n",
    "**grouping** \n",
    "\n",
    "The result of an expression can depend on the order in which operations are applied: \n",
    "10 + 12 * 2 means 10 + (12 * 2) since by convention Python applies multiplication and division before addition and subtraction. If instead you want Python to compute (10 * 12) * 2 just say so using brackets. \n",
    "\n",
    "**want more?**\n",
    "\n",
    "The [w3school](https://www.w3schools.com/python/python_operators.asp) has a complete list of Python operators, more than you'll ever need. "
   ]
  },
  {
   "cell_type": "code",
   "execution_count": null,
   "metadata": {},
   "outputs": [],
   "source": [
    "# what do you think happens ?  \n",
    "# confirm by adding print statements \n",
    "# what is the type the various expression results ?\n",
    "# do your own experiments\n",
    "x = 12 * 10                 # *, +, /, not, and   are operators \n",
    "y = x + 1 / 3               # brackets take care of the order of operations  \n",
    "z = (x + 1) / 3              \n",
    "mod = x % 7\n",
    "b = x > 200\n",
    "c = 'combine' + ' ' + 'strings'\n",
    "eq = x == y\n",
    "sm = 'aaa' < c \n",
    "# go ahead do your own experiments"
   ]
  },
  {
   "cell_type": "markdown",
   "metadata": {},
   "source": [
    "Operators do not always make sense. For example:  you can use the +, -, *, / operators on numbers. The + operator is the only one that can work with two strings. Have a look at the following code snippet, run it to see what works and what doesn't. Make the errors go away."
   ]
  },
  {
   "cell_type": "code",
   "execution_count": null,
   "metadata": {
    "scrolled": true
   },
   "outputs": [],
   "source": [
    "x = 3 \n",
    "y = '10' + x\n",
    "print(x, y)\n",
    "z1 = x / 3 +  4 \n",
    "z2 = y / (y - 4)\n",
    "print(z1, z2)\n",
    "doit = x <= y\n",
    "print(doit)\n",
    "mod = 54.6 % 1.2\n",
    "mod = mod / (mod - mod)\n",
    "print(mod)\n",
    "hashes =  x * '#'\n",
    "hashes += '.' * y + 2 * x * '+'\n",
    "print(hashes)"
   ]
  },
  {
   "cell_type": "markdown",
   "metadata": {},
   "source": [
    "### Prompting for Input\n",
    "\n",
    "Next you will be develop a conversion formular. To get ready you need to learn how to prompt a user for input. "
   ]
  },
  {
   "cell_type": "code",
   "execution_count": null,
   "metadata": {
    "scrolled": true
   },
   "outputs": [],
   "source": [
    "x = input('enter a number> ')\n",
    "print(x)"
   ]
  },
  {
   "cell_type": "markdown",
   "metadata": {},
   "source": [
    "Now lets use the input (make sure you exceute the cell above first)"
   ]
  },
  {
   "cell_type": "code",
   "execution_count": null,
   "metadata": {
    "scrolled": true
   },
   "outputs": [],
   "source": [
    "x + 10 "
   ]
  },
  {
   "cell_type": "markdown",
   "metadata": {},
   "source": [
    "This is rather sad. x refers to a string, so we can not add the number 10. Luckily Python provides for a way to convert strings to integers or floats. Run the following two cells a few times and experiment with the conversion methods. Try values that make sense and some that do not.   "
   ]
  },
  {
   "cell_type": "code",
   "execution_count": null,
   "metadata": {
    "scrolled": false
   },
   "outputs": [],
   "source": [
    "# prompt for input\n",
    "# pass the string entered to the int conversion function\n",
    "# store the resulting integer value in the variable v \n",
    "v = int(input('enter anything '))\n",
    "print(v, '\\t', type(v))"
   ]
  },
  {
   "cell_type": "code",
   "execution_count": null,
   "metadata": {},
   "outputs": [],
   "source": [
    "v = float(input('enter anything '))\n",
    "print(v, '\\t', type(v))"
   ]
  },
  {
   "cell_type": "markdown",
   "metadata": {},
   "source": [
    "### Assignment 1\n",
    "\n",
    " - prompt for number of miles - allow fractions of miles \n",
    " - store the given value in a variable \n",
    " - devise an expression that converts miles into kilometer  \n",
    " - print string formatted as follows:   XX miles equals YY kilometers \n",
    "\n",
    "The conversion formular is   *mi = 1.609344  * km* \n"
   ]
  },
  {
   "cell_type": "code",
   "execution_count": null,
   "metadata": {},
   "outputs": [],
   "source": [
    "# convert miles to kilometer \n",
    "# your code goes here"
   ]
  },
    {
   "cell_type": "markdown",
   "metadata": {},
   "source": [
    "### Assignment 2\n",
    "\n",
    " - prompt for number of fahrenheit\n",
    " - convert to celsius   \n",
    " - print string formatted as follows:   XX Fahrenheit equals  YY Celsius\n",
    "\n",
    "The conversion formular is   \n",
    " - *C  = Five ninths of the quantity: F minus 32*\n",
    "\n",
    "Hint:  Use brackets in  your Python expression\n",
    "\n",
    "And don't forget to test a couple values: 32 F becomes 0 Celisius, 50 F is 10 Celsius, ... "
   ]
  },
  {
   "cell_type": "code",
   "execution_count": null,
   "metadata": {},
   "outputs": [],
   "source": [
    "# convert fahrenheit to celsius\n",
    "# your code goes here"
   ]
  },
  {
   "cell_type": "markdown",
   "metadata": {},
   "source": [
    "### Next\n",
    "\n",
    "[The If statement](./Lesson2-if-statement.ipynb)\n"
   ]
  }
 ],
 "metadata": {
  "kernelspec": {
   "display_name": "Python 3",
   "language": "python",
   "name": "python3"
  },
  "language_info": {
   "codemirror_mode": {
    "name": "ipython",
    "version": 3
   },
   "file_extension": ".py",
   "mimetype": "text/x-python",
   "name": "python",
   "nbconvert_exporter": "python",
   "pygments_lexer": "ipython3",
   "version": "3.7.0"
  },
  "pycharm": {
   "stem_cell": {
    "cell_type": "raw",
    "metadata": {
     "collapsed": false
    },
    "source": []
   }
  }
 },
 "nbformat": 4,
 "nbformat_minor": 2
}
